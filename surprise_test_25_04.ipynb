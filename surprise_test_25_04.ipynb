{
 "cells": [
  {
   "cell_type": "code",
   "execution_count": null,
   "id": "a887481d-c2b3-49ba-b9b1-6215efedf9d5",
   "metadata": {},
   "outputs": [],
   "source": [
    "# Surprise Test :"
   ]
  },
  {
   "cell_type": "raw",
   "id": "3bf35ad5-4ffc-420d-b4a2-2cfbe18e7f06",
   "metadata": {},
   "source": [
    "1) Use a dictionary comprehension to count the length of each word in a sentence. \n",
    "    St = ['hello','everyone','all','the','best']"
   ]
  },
  {
   "cell_type": "code",
   "execution_count": null,
   "id": "fc169e10-006f-4986-8f02-e6e6c6b1ca38",
   "metadata": {},
   "outputs": [],
   "source": []
  },
  {
   "cell_type": "raw",
   "id": "2eb035fc-0a02-4f04-a9ba-221170a3486c",
   "metadata": {},
   "source": [
    "2) Difference between covariance and correlation. "
   ]
  },
  {
   "cell_type": "markdown",
   "id": "389790dc-3f6a-4993-a2a0-86d447119a6e",
   "metadata": {},
   "source": [
    "The difference between Covariance and Correlation is that Covariance only gives the direction of the relationship \n",
    "between two variables while Correlation, along with direction also indicates the magnitude or strength of the relationship\n",
    "with values ranging between -1 and 1; where values close to -1 indicate a negative corelation, 0 indicate no correlation\n",
    "and values close to 1 indicate a positive corelation. "
   ]
  },
  {
   "cell_type": "raw",
   "id": "66e47078-7d27-4100-b012-93bb69322365",
   "metadata": {},
   "source": [
    "3) What is CLT?"
   ]
  },
  {
   "cell_type": "markdown",
   "id": "3797c65d-13a5-4f02-8404-db069a5839b2",
   "metadata": {},
   "source": [
    "The central limit theorem states that when the data is getting larger, the distribution of its mean values will always\n",
    "approximate a normal distribution, regardless of the data's original distribution.  "
   ]
  },
  {
   "cell_type": "raw",
   "id": "77c89e38-2847-463e-8ad3-183630fd3305",
   "metadata": {},
   "source": [
    "4) Two main differences between set and dictionary."
   ]
  },
  {
   "cell_type": "markdown",
   "id": "29fbce6d-7258-45e8-9857-3ac7d6f7f0f5",
   "metadata": {},
   "source": [
    "differences between set and dictionary:\n",
    "i) The objects in a Dictionary are in the form of key-value pairs which is not true in the case of a Set.\n",
    "ii) Objects in a Dictionary have indices while a Set is unindexed."
   ]
  },
  {
   "cell_type": "raw",
   "id": "5937b797-7d0f-4879-85aa-d3a07e03fbbc",
   "metadata": {},
   "source": [
    "5) Difference between linspace and arange. "
   ]
  },
  {
   "cell_type": "markdown",
   "id": "af16015a-d5f3-46d9-83f7-f5b24d7b3d15",
   "metadata": {},
   "source": [
    "* Arange allows us to provide a range and the step size for the list to be created.\n",
    "* Linspace allows us to pass the number of steps in the list whose values will range between 0 and 1. "
   ]
  },
  {
   "cell_type": "code",
   "execution_count": 14,
   "id": "5478138a-699a-454a-b0db-361b677223d4",
   "metadata": {},
   "outputs": [
    {
     "data": {
      "text/plain": [
       "array([ 1,  5,  9, 13, 17, 21, 25, 29, 33, 37, 41, 45, 49])"
      ]
     },
     "execution_count": 14,
     "metadata": {},
     "output_type": "execute_result"
    }
   ],
   "source": [
    "# Ex:\n",
    "import numpy as np\n",
    "a = np.arange(1,50,4)\n",
    "a"
   ]
  },
  {
   "cell_type": "code",
   "execution_count": 16,
   "id": "82860614-8ccb-4976-8c2c-da8cdee8ea8f",
   "metadata": {},
   "outputs": [
    {
     "data": {
      "text/plain": [
       "array([0.        , 0.05263158, 0.10526316, 0.15789474, 0.21052632,\n",
       "       0.26315789, 0.31578947, 0.36842105, 0.42105263, 0.47368421,\n",
       "       0.52631579, 0.57894737, 0.63157895, 0.68421053, 0.73684211,\n",
       "       0.78947368, 0.84210526, 0.89473684, 0.94736842, 1.        ])"
      ]
     },
     "execution_count": 16,
     "metadata": {},
     "output_type": "execute_result"
    }
   ],
   "source": [
    "# Ex: \n",
    "b = np.linspace(0,1,20)\n",
    "b"
   ]
  },
  {
   "cell_type": "raw",
   "id": "42d189c9-af7c-48e0-bd14-c102ebc57756",
   "metadata": {},
   "source": [
    "6) What is type 1 error?"
   ]
  },
  {
   "cell_type": "markdown",
   "id": "ab5da7a4-f0aa-406d-a69c-f85f645fb4f2",
   "metadata": {},
   "source": [
    "Type 1 error is called False-Positive which is when an ML model wrongly predicts a negative value as positive."
   ]
  },
  {
   "cell_type": "raw",
   "id": "be1c42ea-d3f0-46e3-b605-c4e5d27e41ba",
   "metadata": {},
   "source": [
    "7) Function to find outliers in the dataset? (lower limit and upper limit)"
   ]
  },
  {
   "cell_type": "code",
   "execution_count": null,
   "id": "ec78ba29-33f2-4c81-998d-a5c7ab15e556",
   "metadata": {},
   "outputs": [],
   "source": [
    "def Outliers(data):\n",
    "    data = np.array(data)\n",
    "    Q1 = np.percentile(data, 25)\n",
    "    Q3 = np.percentile(data, 75)\n",
    "    IQR = Q3 - Q1\n",
    "    upper_bound = Q3 + 1.5 * IQR\n",
    "    lower_bound = Q1 - 1.5 * IQR\n",
    "    outliers = np.where((data<=lower_bound) & (data>=upper_bound))\n",
    "    return outliers"
   ]
  },
  {
   "cell_type": "raw",
   "id": "978ceb93-2196-42c6-8515-9d04d5d4ebef",
   "metadata": {},
   "source": [
    "8) Statistical tests to check if data is normally distributed? (Name of the tests)"
   ]
  },
  {
   "cell_type": "markdown",
   "id": "86be5b9a-4b95-4877-9db4-7abffdcb25ef",
   "metadata": {},
   "source": [
    "Tests to check if the data is normally distributed are :\n",
    "i) Shapiro-Wilk test \n",
    "ii) Jarque-Bera test"
   ]
  },
  {
   "cell_type": "raw",
   "id": "be34ca61-eee9-4d24-8342-92033e3d8940",
   "metadata": {},
   "source": [
    "9) List the assumptions of linear regression."
   ]
  },
  {
   "cell_type": "markdown",
   "id": "cebe50b1-2bf6-41f5-a224-7cde06d5f8e8",
   "metadata": {},
   "source": [
    "The assumptions of linear regression are:\n",
    "i) Linearity : There must be a linear relationship i.e. correlation between independent and dependent variables. \n",
    "ii) Multicollinearity : There must be no correlation amongst the independent variables. \n",
    "iii) Normality of Residuals : The residual errors must be normally distributed along the best fit line. \n",
    "iv) Homoscedasticity : \n",
    "v) No Endogeneity : No relationship between errors and independent variables."
   ]
  },
  {
   "cell_type": "raw",
   "id": "2d7b9867-4cdd-49f8-9c24-a84aaf234040",
   "metadata": {},
   "source": [
    "10) What is entrophy and information gain? "
   ]
  },
  {
   "cell_type": "markdown",
   "id": "9b8dd254-7410-4a8c-b974-afb21ec1d3ad",
   "metadata": {},
   "source": [
    "* Entrophy is a metric to measure the degree of disorder/variance amongst certain features. \n",
    "* Information gain tells us how much entrophy is reduced when we split the data using a certain feature. \n",
    "Information gain is used to decide the attribute which will form the root node in a decision tree. "
   ]
  },
  {
   "cell_type": "code",
   "execution_count": null,
   "id": "2770a3f8-5f65-4dec-8be3-0624b99166c8",
   "metadata": {},
   "outputs": [],
   "source": []
  },
  {
   "cell_type": "raw",
   "id": "fc5fd6e4-f2d3-45fd-8864-2f90f1da56ff",
   "metadata": {},
   "source": [
    "11) EDA and build Random Forest using CV?"
   ]
  },
  {
   "cell_type": "code",
   "execution_count": 22,
   "id": "d9842ac7-488a-4484-9a34-834a263974a5",
   "metadata": {},
   "outputs": [],
   "source": [
    "import numpy as np\n",
    "import pandas as pd\n",
    "import seaborn as sns \n",
    "import matplotlib.pyplot as plt\n",
    "%matplotlib inline\n",
    "from sklearn.model_selection import train_test_split, GridSearchCV\n",
    "from sklearn.preprocessing import LabelEncoder, StandardScaler\n",
    "from sklearn.ensemble import RandomForestClassifier"
   ]
  },
  {
   "cell_type": "code",
   "execution_count": 48,
   "id": "51ada7f0-56f4-41fa-856c-a1617405b4c1",
   "metadata": {},
   "outputs": [
    {
     "data": {
      "text/html": [
       "<div>\n",
       "<style scoped>\n",
       "    .dataframe tbody tr th:only-of-type {\n",
       "        vertical-align: middle;\n",
       "    }\n",
       "\n",
       "    .dataframe tbody tr th {\n",
       "        vertical-align: top;\n",
       "    }\n",
       "\n",
       "    .dataframe thead th {\n",
       "        text-align: right;\n",
       "    }\n",
       "</style>\n",
       "<table border=\"1\" class=\"dataframe\">\n",
       "  <thead>\n",
       "    <tr style=\"text-align: right;\">\n",
       "      <th></th>\n",
       "      <th>Loan_ID</th>\n",
       "      <th>Gender</th>\n",
       "      <th>Married</th>\n",
       "      <th>Dependents</th>\n",
       "      <th>Education</th>\n",
       "      <th>Self_Employed</th>\n",
       "      <th>ApplicantIncome</th>\n",
       "      <th>CoapplicantIncome</th>\n",
       "      <th>LoanAmount</th>\n",
       "      <th>Loan_Amount_Term</th>\n",
       "      <th>Credit_History</th>\n",
       "      <th>Property_Area</th>\n",
       "      <th>Loan_Status</th>\n",
       "    </tr>\n",
       "  </thead>\n",
       "  <tbody>\n",
       "    <tr>\n",
       "      <th>506</th>\n",
       "      <td>LP002624</td>\n",
       "      <td>Male</td>\n",
       "      <td>Yes</td>\n",
       "      <td>0</td>\n",
       "      <td>Graduate</td>\n",
       "      <td>No</td>\n",
       "      <td>20833</td>\n",
       "      <td>6667.0</td>\n",
       "      <td>480.0</td>\n",
       "      <td>360.0</td>\n",
       "      <td>NaN</td>\n",
       "      <td>Urban</td>\n",
       "      <td>Y</td>\n",
       "    </tr>\n",
       "    <tr>\n",
       "      <th>549</th>\n",
       "      <td>LP002777</td>\n",
       "      <td>Male</td>\n",
       "      <td>Yes</td>\n",
       "      <td>0</td>\n",
       "      <td>Graduate</td>\n",
       "      <td>No</td>\n",
       "      <td>2785</td>\n",
       "      <td>2016.0</td>\n",
       "      <td>110.0</td>\n",
       "      <td>360.0</td>\n",
       "      <td>1.0</td>\n",
       "      <td>Rural</td>\n",
       "      <td>Y</td>\n",
       "    </tr>\n",
       "    <tr>\n",
       "      <th>406</th>\n",
       "      <td>LP002308</td>\n",
       "      <td>Male</td>\n",
       "      <td>Yes</td>\n",
       "      <td>0</td>\n",
       "      <td>Not Graduate</td>\n",
       "      <td>No</td>\n",
       "      <td>2167</td>\n",
       "      <td>2400.0</td>\n",
       "      <td>115.0</td>\n",
       "      <td>360.0</td>\n",
       "      <td>1.0</td>\n",
       "      <td>Urban</td>\n",
       "      <td>Y</td>\n",
       "    </tr>\n",
       "    <tr>\n",
       "      <th>530</th>\n",
       "      <td>LP002717</td>\n",
       "      <td>Male</td>\n",
       "      <td>Yes</td>\n",
       "      <td>0</td>\n",
       "      <td>Graduate</td>\n",
       "      <td>No</td>\n",
       "      <td>1025</td>\n",
       "      <td>5500.0</td>\n",
       "      <td>216.0</td>\n",
       "      <td>360.0</td>\n",
       "      <td>NaN</td>\n",
       "      <td>Rural</td>\n",
       "      <td>Y</td>\n",
       "    </tr>\n",
       "    <tr>\n",
       "      <th>274</th>\n",
       "      <td>LP001896</td>\n",
       "      <td>Male</td>\n",
       "      <td>Yes</td>\n",
       "      <td>2</td>\n",
       "      <td>Graduate</td>\n",
       "      <td>No</td>\n",
       "      <td>3900</td>\n",
       "      <td>0.0</td>\n",
       "      <td>90.0</td>\n",
       "      <td>360.0</td>\n",
       "      <td>1.0</td>\n",
       "      <td>Semiurban</td>\n",
       "      <td>Y</td>\n",
       "    </tr>\n",
       "  </tbody>\n",
       "</table>\n",
       "</div>"
      ],
      "text/plain": [
       "      Loan_ID Gender Married Dependents     Education Self_Employed  \\\n",
       "506  LP002624   Male     Yes          0      Graduate            No   \n",
       "549  LP002777   Male     Yes          0      Graduate            No   \n",
       "406  LP002308   Male     Yes          0  Not Graduate            No   \n",
       "530  LP002717   Male     Yes          0      Graduate            No   \n",
       "274  LP001896   Male     Yes          2      Graduate            No   \n",
       "\n",
       "     ApplicantIncome  CoapplicantIncome  LoanAmount  Loan_Amount_Term  \\\n",
       "506            20833             6667.0       480.0             360.0   \n",
       "549             2785             2016.0       110.0             360.0   \n",
       "406             2167             2400.0       115.0             360.0   \n",
       "530             1025             5500.0       216.0             360.0   \n",
       "274             3900                0.0        90.0             360.0   \n",
       "\n",
       "     Credit_History Property_Area Loan_Status  \n",
       "506             NaN         Urban           Y  \n",
       "549             1.0         Rural           Y  \n",
       "406             1.0         Urban           Y  \n",
       "530             NaN         Rural           Y  \n",
       "274             1.0     Semiurban           Y  "
      ]
     },
     "execution_count": 48,
     "metadata": {},
     "output_type": "execute_result"
    }
   ],
   "source": [
    "df = pd.read_csv(r\"C:\\Users\\91702\\Downloads\\loan_data_set.csv\")\n",
    "df.sample(5)"
   ]
  },
  {
   "cell_type": "code",
   "execution_count": 28,
   "id": "81db34ac-e835-4bd2-a8bd-49bf2524757a",
   "metadata": {},
   "outputs": [
    {
     "data": {
      "text/plain": [
       "(614, 13)"
      ]
     },
     "execution_count": 28,
     "metadata": {},
     "output_type": "execute_result"
    }
   ],
   "source": [
    "df.shape"
   ]
  },
  {
   "cell_type": "code",
   "execution_count": 30,
   "id": "d6451694-0452-43a2-9adc-763851eb43c1",
   "metadata": {},
   "outputs": [],
   "source": [
    "df.drop(columns = 'Loan_ID', inplace = True)"
   ]
  },
  {
   "cell_type": "code",
   "execution_count": 32,
   "id": "99740a82-8a09-42a6-8826-3474d04ce39f",
   "metadata": {},
   "outputs": [
    {
     "data": {
      "text/plain": [
       "Gender               13\n",
       "Married               3\n",
       "Dependents           15\n",
       "Education             0\n",
       "Self_Employed        32\n",
       "ApplicantIncome       0\n",
       "CoapplicantIncome     0\n",
       "LoanAmount           22\n",
       "Loan_Amount_Term     14\n",
       "Credit_History       50\n",
       "Property_Area         0\n",
       "Loan_Status           0\n",
       "dtype: int64"
      ]
     },
     "execution_count": 32,
     "metadata": {},
     "output_type": "execute_result"
    }
   ],
   "source": [
    "df.isnull().sum()"
   ]
  },
  {
   "cell_type": "code",
   "execution_count": 34,
   "id": "fbec698f-bd18-49c0-8ebf-a530bf091795",
   "metadata": {},
   "outputs": [
    {
     "data": {
      "text/plain": [
       "Index(['Gender', 'Married', 'Dependents', 'Education', 'Self_Employed',\n",
       "       'ApplicantIncome', 'CoapplicantIncome', 'LoanAmount',\n",
       "       'Loan_Amount_Term', 'Credit_History', 'Property_Area', 'Loan_Status'],\n",
       "      dtype='object')"
      ]
     },
     "execution_count": 34,
     "metadata": {},
     "output_type": "execute_result"
    }
   ],
   "source": [
    "df.columns"
   ]
  },
  {
   "cell_type": "code",
   "execution_count": null,
   "id": "17b29a7c-3caf-4e86-a2da-41c1327c5419",
   "metadata": {},
   "outputs": [],
   "source": [
    "df['Loan_Amount_Term','LoanAmount'].fillna()"
   ]
  },
  {
   "cell_type": "code",
   "execution_count": null,
   "id": "542c735a-77bd-40a6-95cd-8c1a0658701e",
   "metadata": {},
   "outputs": [],
   "source": []
  },
  {
   "cell_type": "code",
   "execution_count": null,
   "id": "8b3d57b4-be8b-43e2-b71e-a056399a59dc",
   "metadata": {},
   "outputs": [],
   "source": []
  },
  {
   "cell_type": "code",
   "execution_count": null,
   "id": "9d7782be-294e-42c7-b6fa-440d96a291d5",
   "metadata": {},
   "outputs": [],
   "source": []
  }
 ],
 "metadata": {
  "kernelspec": {
   "display_name": "Python [conda env:base] *",
   "language": "python",
   "name": "conda-base-py"
  },
  "language_info": {
   "codemirror_mode": {
    "name": "ipython",
    "version": 3
   },
   "file_extension": ".py",
   "mimetype": "text/x-python",
   "name": "python",
   "nbconvert_exporter": "python",
   "pygments_lexer": "ipython3",
   "version": "3.12.7"
  }
 },
 "nbformat": 4,
 "nbformat_minor": 5
}
